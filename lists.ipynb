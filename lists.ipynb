{
 "cells": [
  {
   "cell_type": "code",
   "execution_count": null,
   "metadata": {},
   "outputs": [],
   "source": [
    "#list is collection of elements \n",
    "courses=['COA','OS','DBMS','DSA']\n",
    "course1=['MYTH','BHAGWAT','MYRTR','MYRTR1']\n",
    "print(courses)\n",
    "print(courses[3])\n",
    "print(len(courses))\n",
    "print(courses[0:3])\n",
    "print(courses[-1])#last element of list\n",
    "print(courses[1:-1])\n",
    "courses.append('PROBABILITY')#inserted at last in list\n",
    "print(courses)\n",
    "print(courses[-1])\n",
    "courses.insert(0,'STATISTICS')\n",
    "print(courses)\n",
    "courses.insert(2,\"MACHINE LEARNING\")\n",
    "print(courses)\n",
    "#courses.append(course1)\n",
    "print(courses)\n",
    "courses.extend(course1)\n",
    "print(courses)\n",
    "courses.remove('MYRTR')#deletes specific element\n",
    "print(courses)\n",
    "popped_item=courses.pop()#deletes last element\n",
    "print(courses)\n",
    "print(popped_item)\n",
    "print(courses.index(\"OS\"))\n",
    "print('MYTH' in courses)\n",
    "courses.reverse()\n",
    "print(courses)\n",
    "courses.sort();\n",
    "print(courses)\n",
    "course_string='-'.join(courses)\n",
    "print(course_string)"
   ]
  },
  {
   "cell_type": "code",
   "execution_count": null,
   "metadata": {},
   "outputs": [],
   "source": [
    "num=[23,1,2,34,56,78,9,8]\n",
    "#print(sorted(num))#sorted is not method it is a function\n",
    "sorted_list=sorted(num)\n",
    "print(sorted_list)\n",
    "print(num)\n",
    "num.sort(reverse=True)\n",
    "print(num)\n",
    "print(min(num))\n",
    "print(max(num))\n",
    "print(sum(num))"
   ]
  }
 ],
 "metadata": {
  "language_info": {
   "name": "python"
  }
 },
 "nbformat": 4,
 "nbformat_minor": 2
}
